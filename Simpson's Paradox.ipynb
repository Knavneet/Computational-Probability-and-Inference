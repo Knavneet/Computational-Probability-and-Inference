{
 "cells": [
  {
   "cell_type": "markdown",
   "metadata": {},
   "source": [
    "# Simpson's Paradox"
   ]
  },
  {
   "cell_type": "code",
   "execution_count": 16,
   "metadata": {
    "collapsed": true
   },
   "outputs": [],
   "source": [
    "import numpy as np\n",
    "\n",
    "prob_space = {\n",
    "    ('female', 'A', 'admitted'): 0.019566946531153304,\n",
    "    ('female', 'A', 'rejected'): 0.004295183384887301,\n",
    "    ('female', 'B', 'admitted'): 0.0037560760053027007,\n",
    "    ('female', 'B', 'rejected'): 0.0017675651789660005,\n",
    "    ('female', 'C', 'admitted'): 0.044547061422890007,\n",
    "    ('female', 'C', 'rejected'): 0.086473707467962915,\n",
    "    ('female', 'D', 'admitted'): 0.028999116217410508,\n",
    "    ('female', 'D', 'rejected'): 0.053855501546619514,\n",
    "    ('female', 'E', 'admitted'): 0.020839593460008802,\n",
    "    ('female', 'E', 'rejected'): 0.065992045956694709,\n",
    "    ('female', 'F', 'admitted'): 0.0052739726027397011,\n",
    "    ('female', 'F', 'rejected'): 0.070068493150684918,\n",
    "    ('male', 'A', 'admitted'): 0.11301369863013702,\n",
    "    ('male', 'A', 'rejected'): 0.069266460450729109,\n",
    "    ('male', 'B', 'admitted'): 0.077949624392399511,\n",
    "    ('male', 'B', 'rejected'): 0.045779938135218703,\n",
    "    ('male', 'C', 'admitted'): 0.026568714096332307,\n",
    "    ('male', 'C', 'rejected'): 0.045238621299160404,\n",
    "    ('male', 'D', 'admitted'): 0.030404330534688506,\n",
    "    ('male', 'D', 'rejected'): 0.061730004418912916,\n",
    "    ('male', 'E', 'admitted'): 0.011816173221387503,\n",
    "    ('male', 'E', 'rejected'): 0.030384445426425107,\n",
    "    ('male', 'F', 'admitted'): 0.0049447635881573011,\n",
    "    ('male', 'F', 'rejected'): 0.077467962881131211\n",
    "}\n",
    "\n",
    "gender_labels = ['female', 'male']  # axis 0\n",
    "department_labels = ['A', 'B', 'C', 'D', 'E', 'F']  # axis 1\n",
    "admission_labels = ['admitted', 'rejected']  # axis 2\n",
    "\n",
    "gender_mapping = {label: index\n",
    "                  for index, label in enumerate(gender_labels)}\n",
    "department_mapping = {label: index\n",
    "                      for index, label in enumerate(department_labels)}\n",
    "admission_mapping = {label: index\n",
    "                     for index, label in enumerate(admission_labels)}\n",
    "\n",
    "joint_prob_table = np.zeros((2, 6, 2))\n",
    "\n",
    "# read information from full probability space into the joint probability table\n",
    "for gender, department, admission in prob_space:\n",
    "    joint_prob_table[gender_mapping[gender],\n",
    "                     department_mapping[department],\n",
    "                     admission_mapping[admission]] = prob_space[(gender,\n",
    "                                                                 department,\n",
    "                                                                 admission)]\n",
    "\n",
    "    \n",
    "# Axis 0 is sex\n",
    "# axis 1 is Department\n",
    "# axis 2 is admitted / not-admitted\n"
   ]
  },
  {
   "cell_type": "code",
   "execution_count": 53,
   "metadata": {},
   "outputs": [],
   "source": [
    "# after Marginalisation\n",
    "joint_prob_sex_admission = joint_prob_table.sum(axis = 1)\n",
    "joint_prob_sex_department = joint_prob_table.sum(axis = 2)\n"
   ]
  },
  {
   "cell_type": "code",
   "execution_count": 54,
   "metadata": {},
   "outputs": [],
   "source": [
    "s = joint_prob_sex_admission.sum(axis = 0)\n",
    "admitted_only = joint_prob_sex_admission[:, admission_mapping['admitted']]\n",
    "# Axis 0 is sex\n",
    "# axis 1 is admitted / not-admitted"
   ]
  },
  {
   "cell_type": "code",
   "execution_count": 62,
   "metadata": {},
   "outputs": [
    {
     "name": "stdout",
     "output_type": "stream",
     "text": [
      "Probability of Female getting Admitted to College =  0.303335149864\n",
      "Probability of Male getting Admitted to College =  0.44519509476\n"
     ]
    }
   ],
   "source": [
    "female_only = joint_prob_sex_admission[gender_mapping['female'],:]\n",
    "male_only = joint_prob_sex_admission[gender_mapping['male'],:]\n",
    "female_only_normalised = female_only/(female_only.sum())\n",
    "male_only_normalised = male_only/(male_only.sum())\n",
    "print('Probability of Female getting Admitted to College = ', female_only_normalised[0])\n",
    "print('Probability of Male getting Admitted to College = ', male_only_normalised[0])"
   ]
  },
  {
   "cell_type": "markdown",
   "metadata": {},
   "source": [
    "### So, We notice that admission procedure favours Male candidates. \n",
    "Let's check if the above result holds if cross-checked department-wise. "
   ]
  },
  {
   "cell_type": "code",
   "execution_count": 63,
   "metadata": {},
   "outputs": [
    {
     "name": "stdout",
     "output_type": "stream",
     "text": [
      "female A 0.82\n",
      "male A 0.62\n",
      "female B 0.68\n",
      "male B 0.63\n",
      "female C 0.34\n",
      "male C 0.37\n",
      "female D 0.35\n",
      "male D 0.33\n",
      "female E 0.24\n",
      "male E 0.28\n",
      "female F 0.07\n",
      "male F 0.06\n"
     ]
    }
   ],
   "source": [
    "for department in department_labels:\n",
    "    for gender in gender_labels:\n",
    "        x = joint_prob_table[gender_mapping[gender], department_mapping[department], admission_mapping['admitted']]\n",
    "        y = x/joint_prob_sex_department[gender_mapping[gender], department_mapping[department]]\n",
    "        print(gender, department, y )"
   ]
  },
  {
   "cell_type": "markdown",
   "metadata": {},
   "source": [
    "### we see that the ovservation that we made in previous markdown stands corrected.\n",
    "Final observation : There is No bias towards any particular group. "
   ]
  }
 ],
 "metadata": {
  "kernelspec": {
   "display_name": "Python 3",
   "language": "python",
   "name": "python3"
  },
  "language_info": {
   "codemirror_mode": {
    "name": "ipython",
    "version": 3
   },
   "file_extension": ".py",
   "mimetype": "text/x-python",
   "name": "python",
   "nbconvert_exporter": "python",
   "pygments_lexer": "ipython3",
   "version": "3.6.1"
  }
 },
 "nbformat": 4,
 "nbformat_minor": 2
}
